{
  "cells": [
    {
      "cell_type": "markdown",
      "source": [
        "## Name : Khairul Basar\n",
        "## Roll : 1811176143"
      ],
      "metadata": {
        "id": "19qg2dHul8MJ"
      }
    },
    {
      "cell_type": "markdown",
      "source": [
        "## Import necessary library"
      ],
      "metadata": {
        "id": "JZnOsk3rjaDW"
      }
    },
    {
      "cell_type": "code",
      "execution_count": 2,
      "metadata": {
        "id": "QjuQmmd0h7x_"
      },
      "outputs": [],
      "source": [
        "from tensorflow.keras.layers import Input,Dense,Flatten,MaxPooling2D,Conv2D\n",
        "from tensorflow.keras.models import Model\n",
        "from tensorflow.keras.applications import vgg16"
      ]
    },
    {
      "cell_type": "markdown",
      "source": [
        "## Actual VGG16 model"
      ],
      "metadata": {
        "id": "2zQmJCSZjnzY"
      }
    },
    {
      "cell_type": "code",
      "execution_count": 3,
      "metadata": {
        "colab": {
          "base_uri": "https://localhost:8080/"
        },
        "id": "hYOuEV8Xh7yG",
        "outputId": "8dc56859-54b6-47b9-cd95-3feabad1617c"
      },
      "outputs": [
        {
          "output_type": "stream",
          "name": "stdout",
          "text": [
            "Downloading data from https://storage.googleapis.com/tensorflow/keras-applications/vgg16/vgg16_weights_tf_dim_ordering_tf_kernels.h5\n",
            "553467096/553467096 [==============================] - 6s 0us/step\n"
          ]
        }
      ],
      "source": [
        "real_vgg16 = vgg16.VGG16()\n",
        "\n",
        "#real_vgg16.summary()"
      ]
    },
    {
      "cell_type": "markdown",
      "source": [
        "## A CNN which will look like VGG16, but will not be exactly VGG16"
      ],
      "metadata": {
        "id": "IXoMPyayjtd3"
      }
    },
    {
      "cell_type": "code",
      "execution_count": 4,
      "metadata": {
        "colab": {
          "base_uri": "https://localhost:8080/"
        },
        "id": "qQPO672Fh7yI",
        "outputId": "a321368f-16ec-431b-8643-bb06c350d733"
      },
      "outputs": [
        {
          "output_type": "stream",
          "name": "stdout",
          "text": [
            "Model: \"model\"\n",
            "_________________________________________________________________\n",
            " Layer (type)                Output Shape              Param #   \n",
            "=================================================================\n",
            " input_2 (InputLayer)        [(None, 128, 128, 3)]     0         \n",
            "                                                                 \n",
            " conv2d (Conv2D)             (None, 128, 128, 128)     3584      \n",
            "                                                                 \n",
            " conv2d_1 (Conv2D)           (None, 128, 128, 512)     590336    \n",
            "                                                                 \n",
            " max_pooling2d (MaxPooling2  (None, 64, 64, 512)       0         \n",
            " D)                                                              \n",
            "                                                                 \n",
            " conv2d_2 (Conv2D)           (None, 64, 64, 256)       1179904   \n",
            "                                                                 \n",
            " max_pooling2d_1 (MaxPoolin  (None, 32, 32, 256)       0         \n",
            " g2D)                                                            \n",
            "                                                                 \n",
            " flatten (Flatten)           (None, 262144)            0         \n",
            "                                                                 \n",
            " dense (Dense)               (None, 2048)              536872960 \n",
            "                                                                 \n",
            " dense_1 (Dense)             (None, 4096)              8392704   \n",
            "                                                                 \n",
            " dense_2 (Dense)             (None, 50)                204850    \n",
            "                                                                 \n",
            "=================================================================\n",
            "Total params: 547244338 (2.04 GB)\n",
            "Trainable params: 547244338 (2.04 GB)\n",
            "Non-trainable params: 0 (0.00 Byte)\n",
            "_________________________________________________________________\n"
          ]
        }
      ],
      "source": [
        "inputs = Input(shape=(128,128,3))\n",
        "\n",
        "x = Conv2D(128,(3,3),padding = 'same',activation = 'relu')(inputs)\n",
        "x = Conv2D(512,(3,3),padding = 'same',activation = 'relu')(x)\n",
        "x = MaxPooling2D()(x)\n",
        "\n",
        "x = Conv2D(256,(3,3),padding = 'same',activation = 'relu')(x)\n",
        "x = MaxPooling2D()(x)\n",
        "\n",
        "\n",
        "x= Flatten()(x)\n",
        "\n",
        "x = Dense(2048,activation = 'relu')(x)\n",
        "x = Dense(4096,activation = 'relu')(x)\n",
        "outputs = Dense(50,activation = 'softmax')(x)\n",
        "\n",
        "\n",
        "my_custom_model = Model(inputs,outputs)\n",
        "\n",
        "my_custom_model.summary()\n",
        "\n",
        "\n"
      ]
    }
  ],
  "metadata": {
    "kernelspec": {
      "display_name": "Python 3",
      "name": "python3"
    },
    "language_info": {
      "codemirror_mode": {
        "name": "ipython",
        "version": 3
      },
      "file_extension": ".py",
      "mimetype": "text/x-python",
      "name": "python",
      "nbconvert_exporter": "python",
      "pygments_lexer": "ipython3",
      "version": "3.11.4"
    },
    "colab": {
      "provenance": []
    }
  },
  "nbformat": 4,
  "nbformat_minor": 0
}