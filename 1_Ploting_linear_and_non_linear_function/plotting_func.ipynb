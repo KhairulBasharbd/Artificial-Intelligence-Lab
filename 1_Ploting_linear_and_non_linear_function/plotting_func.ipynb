{
 "cells": [
  {
   "cell_type": "markdown",
   "metadata": {},
   "source": [
    "## Plotting linear and non linear functions"
   ]
  },
  {
   "cell_type": "markdown",
   "metadata": {},
   "source": []
  },
  {
   "cell_type": "code",
   "execution_count": null,
   "metadata": {},
   "outputs": [
    {
     "name": "stdout",
     "output_type": "stream",
     "text": [
      "WARNING:tensorflow:From C:\\Users\\Khairul_Bashar\\AppData\\Roaming\\Python\\Python311\\site-packages\\keras\\src\\losses.py:2976: The name tf.losses.sparse_softmax_cross_entropy is deprecated. Please use tf.compat.v1.losses.sparse_softmax_cross_entropy instead.\n",
      "\n"
     ]
    }
   ],
   "source": [
    "import numpy as np\n",
    "import matplotlib.pyplot as plt\n",
    "import tensorflow\n"
   ]
  },
  {
   "cell_type": "code",
   "execution_count": null,
   "metadata": {},
   "outputs": [],
   "source": [
    "\n",
    "a = 5\n",
    "b = 3\n",
    "c = 7\n",
    "\n",
    "x = np.arange(-10, 10, 0.01)\n",
    "y1 = a * x**2 + b * x + c\n",
    "y2 = a * x + b\n",
    "y3 = a * np.exp(x) + c\n",
    "y4 = a * np.log(x) + c\n",
    "y5 = a * np.sin(x) + c\n",
    "\n",
    "fig, axs = plt.subplots(2, 3)\n",
    "\n",
    "axs[0, 0].plot(x, y1)\n",
    "axs[0, 0].set_title('Quadratic')\n",
    "axs[0, 1].plot(x, y2)\n",
    "axs[0, 1].set_title('Linear')\n",
    "axs[0, 2].plot(x, y3)\n",
    "axs[0, 2].set_title('Exponential')\n",
    "axs[1, 0].plot(x, y4)\n",
    "axs[1, 0].set_title('Logarithmic')\n",
    "axs[1, 1].plot(x, y5)\n",
    "axs[1, 1].set_title('Sine')\n",
    "\n",
    "plt.show()\n",
    "plt.tight_layout()\n",
    "\n"
   ]
  }
 ],
 "metadata": {
  "kernelspec": {
   "display_name": "Python 3",
   "language": "python",
   "name": "python3"
  },
  "language_info": {
   "codemirror_mode": {
    "name": "ipython",
    "version": 3
   },
   "file_extension": ".py",
   "mimetype": "text/x-python",
   "name": "python",
   "nbconvert_exporter": "python",
   "pygments_lexer": "ipython3",
   "version": "3.11.4"
  }
 },
 "nbformat": 4,
 "nbformat_minor": 2
}
